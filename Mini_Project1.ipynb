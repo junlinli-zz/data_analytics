{
 "cells": [
  {
   "cell_type": "code",
   "execution_count": 59,
   "metadata": {},
   "outputs": [
    {
     "name": "stdout",
     "output_type": "stream",
     "text": [
      "Please enter a number: 6\n",
      "It is an even number!\n"
     ]
    }
   ],
   "source": [
    "num1 = int(input(\"Please enter a number: \"))\n",
    "num2 = num1 % 2\n",
    "if num2 > 0:\n",
    "    print(\"It is an odd number!\")\n",
    "elif num1 == 0:\n",
    "    print(\"It is 0\")\n",
    "else:\n",
    "    print(\"It is an even number!\")"
   ]
  },
  {
   "cell_type": "code",
   "execution_count": 69,
   "metadata": {},
   "outputs": [
    {
     "name": "stdout",
     "output_type": "stream",
     "text": [
      "Please enter a number: 24\n",
      "24 is a multiple of 4!\n"
     ]
    }
   ],
   "source": [
    "num1 = int(input(\"Please enter a number: \"))\n",
    "num2 = num1 % 4\n",
    "if num2 == 0:\n",
    "    print(num1, \"is a multiple of 4!\")\n",
    "else:\n",
    "    print(num1, \"is not a multiple of 4!\")"
   ]
  },
  {
   "cell_type": "code",
   "execution_count": 72,
   "metadata": {},
   "outputs": [
    {
     "name": "stdout",
     "output_type": "stream",
     "text": [
      "Please enter a number to check: 8\n",
      "Please enter a numberto divide by: 2\n",
      "2 divides evenly into 8\n"
     ]
    }
   ],
   "source": [
    "num = int(input(\"Please enter a number to check: \"))\n",
    "check = int(input(\"Please enter a numberto divide by: \"))\n",
    "if num % check == 0:\n",
    "    print(check, \"divides evenly into\", num)\n",
    "else:\n",
    "    print(check, \"does not divide evenly into\", num)"
   ]
  },
  {
   "cell_type": "code",
   "execution_count": 81,
   "metadata": {},
   "outputs": [
    {
     "name": "stdout",
     "output_type": "stream",
     "text": [
      "Number is even\n"
     ]
    }
   ],
   "source": [
    "def type(num):\n",
    "    if num % 2 > 0:\n",
    "        print(\"Number is odd\")\n",
    "    elif num == 0:\n",
    "        print(\"Number is 0\")\n",
    "    else:\n",
    "        print(\"Number is even\")\n",
    "type(num=6)"
   ]
  },
  {
   "cell_type": "code",
   "execution_count": null,
   "metadata": {},
   "outputs": [],
   "source": []
  }
 ],
 "metadata": {
  "kernelspec": {
   "display_name": "Python 3",
   "language": "python",
   "name": "python3"
  },
  "language_info": {
   "codemirror_mode": {
    "name": "ipython",
    "version": 3
   },
   "file_extension": ".py",
   "mimetype": "text/x-python",
   "name": "python",
   "nbconvert_exporter": "python",
   "pygments_lexer": "ipython3",
   "version": "3.8.5"
  }
 },
 "nbformat": 4,
 "nbformat_minor": 4
}
